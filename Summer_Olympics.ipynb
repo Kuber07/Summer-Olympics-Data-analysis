{
  "nbformat": 4,
  "nbformat_minor": 0,
  "metadata": {
    "kernelspec": {
      "display_name": "Python 2",
      "language": "python",
      "name": "python2"
    },
    "language_info": {
      "codemirror_mode": {
        "name": "ipython",
        "version": 2
      },
      "file_extension": ".py",
      "mimetype": "text/x-python",
      "name": "python",
      "nbconvert_exporter": "python",
      "pygments_lexer": "ipython2",
      "version": "2.7.16"
    },
    "colab": {
      "name": "Summer_Olympics.ipynb",
      "provenance": [],
      "collapsed_sections": []
    }
  },
  "cells": [
    {
      "cell_type": "markdown",
      "metadata": {
        "id": "ELCcxQh4pxRs"
      },
      "source": [
        "#Summer Olympics Data Analysis Assignment"
      ]
    },
    {
      "cell_type": "markdown",
      "metadata": {
        "id": "iB2NUUeApxRx"
      },
      "source": [
        "### 1. In how many cities Summer Olympics is held so far?"
      ]
    },
    {
      "cell_type": "code",
      "metadata": {
        "colab": {
          "base_uri": "https://localhost:8080/",
          "height": 204
        },
        "id": "bFPQW5TIpxRy",
        "outputId": "55f6c375-bc91-4b5b-afc4-fd6b68693b5f"
      },
      "source": [
        "import numpy as np\n",
        "import pandas as pd\n",
        "import matplotlib.pyplot as plt\n",
        "\n",
        "df = pd.read_csv(\"/content/summer.csv\")\n",
        "df.head()"
      ],
      "execution_count": 18,
      "outputs": [
        {
          "output_type": "execute_result",
          "data": {
            "text/plain": [
              "   Year    City     Sport Discipline             Athlete Country Gender  \\\n",
              "0  1896  Athens  Aquatics   Swimming       HAJOS, Alfred     HUN    Men   \n",
              "1  1896  Athens  Aquatics   Swimming    HERSCHMANN, Otto     AUT    Men   \n",
              "2  1896  Athens  Aquatics   Swimming   DRIVAS, Dimitrios     GRE    Men   \n",
              "3  1896  Athens  Aquatics   Swimming  MALOKINIS, Ioannis     GRE    Men   \n",
              "4  1896  Athens  Aquatics   Swimming  CHASAPIS, Spiridon     GRE    Men   \n",
              "\n",
              "                        Event   Medal  \n",
              "0              100M Freestyle    Gold  \n",
              "1              100M Freestyle  Silver  \n",
              "2  100M Freestyle For Sailors  Bronze  \n",
              "3  100M Freestyle For Sailors    Gold  \n",
              "4  100M Freestyle For Sailors  Silver  "
            ],
            "text/html": [
              "<div>\n",
              "<style scoped>\n",
              "    .dataframe tbody tr th:only-of-type {\n",
              "        vertical-align: middle;\n",
              "    }\n",
              "\n",
              "    .dataframe tbody tr th {\n",
              "        vertical-align: top;\n",
              "    }\n",
              "\n",
              "    .dataframe thead th {\n",
              "        text-align: right;\n",
              "    }\n",
              "</style>\n",
              "<table border=\"1\" class=\"dataframe\">\n",
              "  <thead>\n",
              "    <tr style=\"text-align: right;\">\n",
              "      <th></th>\n",
              "      <th>Year</th>\n",
              "      <th>City</th>\n",
              "      <th>Sport</th>\n",
              "      <th>Discipline</th>\n",
              "      <th>Athlete</th>\n",
              "      <th>Country</th>\n",
              "      <th>Gender</th>\n",
              "      <th>Event</th>\n",
              "      <th>Medal</th>\n",
              "    </tr>\n",
              "  </thead>\n",
              "  <tbody>\n",
              "    <tr>\n",
              "      <th>0</th>\n",
              "      <td>1896</td>\n",
              "      <td>Athens</td>\n",
              "      <td>Aquatics</td>\n",
              "      <td>Swimming</td>\n",
              "      <td>HAJOS, Alfred</td>\n",
              "      <td>HUN</td>\n",
              "      <td>Men</td>\n",
              "      <td>100M Freestyle</td>\n",
              "      <td>Gold</td>\n",
              "    </tr>\n",
              "    <tr>\n",
              "      <th>1</th>\n",
              "      <td>1896</td>\n",
              "      <td>Athens</td>\n",
              "      <td>Aquatics</td>\n",
              "      <td>Swimming</td>\n",
              "      <td>HERSCHMANN, Otto</td>\n",
              "      <td>AUT</td>\n",
              "      <td>Men</td>\n",
              "      <td>100M Freestyle</td>\n",
              "      <td>Silver</td>\n",
              "    </tr>\n",
              "    <tr>\n",
              "      <th>2</th>\n",
              "      <td>1896</td>\n",
              "      <td>Athens</td>\n",
              "      <td>Aquatics</td>\n",
              "      <td>Swimming</td>\n",
              "      <td>DRIVAS, Dimitrios</td>\n",
              "      <td>GRE</td>\n",
              "      <td>Men</td>\n",
              "      <td>100M Freestyle For Sailors</td>\n",
              "      <td>Bronze</td>\n",
              "    </tr>\n",
              "    <tr>\n",
              "      <th>3</th>\n",
              "      <td>1896</td>\n",
              "      <td>Athens</td>\n",
              "      <td>Aquatics</td>\n",
              "      <td>Swimming</td>\n",
              "      <td>MALOKINIS, Ioannis</td>\n",
              "      <td>GRE</td>\n",
              "      <td>Men</td>\n",
              "      <td>100M Freestyle For Sailors</td>\n",
              "      <td>Gold</td>\n",
              "    </tr>\n",
              "    <tr>\n",
              "      <th>4</th>\n",
              "      <td>1896</td>\n",
              "      <td>Athens</td>\n",
              "      <td>Aquatics</td>\n",
              "      <td>Swimming</td>\n",
              "      <td>CHASAPIS, Spiridon</td>\n",
              "      <td>GRE</td>\n",
              "      <td>Men</td>\n",
              "      <td>100M Freestyle For Sailors</td>\n",
              "      <td>Silver</td>\n",
              "    </tr>\n",
              "  </tbody>\n",
              "</table>\n",
              "</div>"
            ]
          },
          "metadata": {},
          "execution_count": 18
        }
      ]
    },
    {
      "cell_type": "code",
      "metadata": {
        "colab": {
          "base_uri": "https://localhost:8080/"
        },
        "id": "4DXeYBDEse4O",
        "outputId": "5f00190e-1815-4103-f83d-5cd0523925ba"
      },
      "source": [
        "#list of cities in which olympics was held\n",
        "df['City'].unique()"
      ],
      "execution_count": 4,
      "outputs": [
        {
          "output_type": "execute_result",
          "data": {
            "text/plain": [
              "array(['Athens', 'Paris', 'St Louis', 'London', 'Stockholm', 'Antwerp',\n",
              "       'Amsterdam', 'Los Angeles', 'Berlin', 'Helsinki',\n",
              "       'Melbourne / Stockholm', 'Rome', 'Tokyo', 'Mexico', 'Munich',\n",
              "       'Montreal', 'Moscow', 'Seoul', 'Barcelona', 'Atlanta', 'Sydney',\n",
              "       'Beijing'], dtype=object)"
            ]
          },
          "metadata": {},
          "execution_count": 4
        }
      ]
    },
    {
      "cell_type": "code",
      "metadata": {
        "colab": {
          "base_uri": "https://localhost:8080/"
        },
        "id": "4SLvTnnnsNWz",
        "outputId": "a06d15bc-def0-4e89-a645-36bd959be0c3"
      },
      "source": [
        "#number of cities in which olympics was held\n",
        "len(df['City'].unique())"
      ],
      "execution_count": 5,
      "outputs": [
        {
          "output_type": "execute_result",
          "data": {
            "text/plain": [
              "22"
            ]
          },
          "metadata": {},
          "execution_count": 5
        }
      ]
    },
    {
      "cell_type": "markdown",
      "metadata": {
        "id": "dPVWlQVfpxRy"
      },
      "source": [
        "### 2. Which sport is having most number of Gold Medals so far? (Top 5)"
      ]
    },
    {
      "cell_type": "code",
      "metadata": {
        "colab": {
          "base_uri": "https://localhost:8080/",
          "height": 573
        },
        "id": "0dCoDdKIpxRz",
        "outputId": "dc7c21fa-6764-4dfc-b2cc-dea026f67d24"
      },
      "source": [
        "st=df[df.Medal=='Gold']\n",
        "data=[]\n",
        "st['Sport'].unique()\n",
        "for sport in st['Sport'].unique():\n",
        "  data.append([sport,len(st[st['Sport'] == sport])])\n",
        "\n",
        "df1=pd.DataFrame(data,columns = ['Sport','Gold medals'])\n",
        "print(\"----------------Top 5 sports having most number of Gold medals------------------------\")\n",
        "print(\"\\n\")\n",
        "print(df1.sort_values(by='Gold medals',ascending=False).head())\n",
        "print(\"********************************\")\n",
        "df1.sort_values(by='Gold medals', ascending=False).head().plot(x = 'Sport', y = 'Gold medals', kind = 'bar', figsize = (10,5),color='red')\n"
      ],
      "execution_count": 15,
      "outputs": [
        {
          "output_type": "stream",
          "name": "stdout",
          "text": [
            "----------------Top 5 sports having most number of Gold medals------------------------\n",
            "\n",
            "\n",
            "         Sport  Gold medals\n",
            "0     Aquatics         1421\n",
            "1    Athletics         1215\n",
            "17      Rowing          890\n",
            "4   Gymnastics          820\n",
            "3      Fencing          552\n",
            "********************************\n"
          ]
        },
        {
          "output_type": "execute_result",
          "data": {
            "text/plain": [
              "<matplotlib.axes._subplots.AxesSubplot at 0x7f0ca97ea950>"
            ]
          },
          "metadata": {},
          "execution_count": 15
        },
        {
          "output_type": "display_data",
          "data": {
            "image/png": "[encoded data removed]",
            "text/plain": [
              "<Figure size 720x360 with 1 Axes>"
            ]
          },
          "metadata": {
            "needs_background": "light"
          }
        }
      ]
    },
    {
      "cell_type": "markdown",
      "metadata": {
        "id": "n-_yOs-ApxRz"
      },
      "source": [
        "### 3. Which sport is having most number of medals so far? (Top 5)"
      ]
    },
    {
      "cell_type": "code",
      "metadata": {
        "id": "XWpJX868pxR0",
        "colab": {
          "base_uri": "https://localhost:8080/",
          "height": 552
        },
        "outputId": "3ca97dce-b8f2-4188-9095-1eccdfc90417"
      },
      "source": [
        "print(\"--------------------Top 5 Sports having most number of Medals----------------------------------- \")\n",
        "print(\"\\n\")\n",
        "print(df.groupby('Sport').count()['Medal'].sort_values(ascending = False).head())\n",
        "print(\"\\n\")\n",
        "print(df.groupby('Sport').count()['Medal'].sort_values(ascending = False).head().plot(kind='bar',figsize=(8,4),color='red'))"
      ],
      "execution_count": 16,
      "outputs": [
        {
          "output_type": "stream",
          "name": "stdout",
          "text": [
            "--------------------Top 5 Sports having most number of Medals----------------------------------- \n",
            "\n",
            "\n",
            "Sport\n",
            "Aquatics      4170\n",
            "Athletics     3638\n",
            "Rowing        2667\n",
            "Gymnastics    2307\n",
            "Fencing       1613\n",
            "Name: Medal, dtype: int64\n",
            "\n",
            "\n",
            "AxesSubplot(0.125,0.125;0.775x0.755)\n"
          ]
        },
        {
          "output_type": "display_data",
          "data": {
            "image/png": "[encoded data removed]",
            "text/plain": [
              "<Figure size 576x288 with 1 Axes>"
            ]
          },
          "metadata": {
            "needs_background": "light"
          }
        }
      ]
    },
    {
      "cell_type": "markdown",
      "metadata": {
        "id": "sAHcMb0jpxR0"
      },
      "source": [
        "### 4. Which player has won most number of medals? (Top 5)"
      ]
    },
    {
      "cell_type": "code",
      "metadata": {
        "id": "vuRYFcUupxR1",
        "colab": {
          "base_uri": "https://localhost:8080/",
          "height": 611
        },
        "outputId": "a571b609-c563-4b60-a3a5-5b36773137c0"
      },
      "source": [
        "print(\"-----------------------Top 5 Athletes having most number of Medals-----------------------\")\n",
        "print(\"\\n\")\n",
        "print(df.groupby('Athlete').count()['Medal'].sort_values(ascending = False).head())\n",
        "print(\"\\n\")\n",
        "print(df.groupby('Athlete').count()['Medal'].sort_values(ascending = False).head().plot(kind='bar',figsize=(8,4),color='red'))"
      ],
      "execution_count": 17,
      "outputs": [
        {
          "output_type": "stream",
          "name": "stdout",
          "text": [
            "-----------------------Top 5 Athletes having most number of Medals-----------------------\n",
            "\n",
            "\n",
            "Athlete\n",
            "PHELPS, Michael         22\n",
            "LATYNINA, Larisa        18\n",
            "ANDRIANOV, Nikolay      15\n",
            "MANGIAROTTI, Edoardo    13\n",
            "SHAKHLIN, Boris         13\n",
            "Name: Medal, dtype: int64\n",
            "\n",
            "\n",
            "AxesSubplot(0.125,0.125;0.775x0.755)\n"
          ]
        },
        {
          "output_type": "display_data",
          "data": {
            "image/png": "[encoded data removed]",
            "text/plain": [
              "<Figure size 576x288 with 1 Axes>"
            ]
          },
          "metadata": {
            "needs_background": "light"
          }
        }
      ]
    },
    {
      "cell_type": "markdown",
      "metadata": {
        "id": "XRa8QIYrpxR2"
      },
      "source": [
        "### 5. Which player has won most number Gold Medals of medals? (Top 5)"
      ]
    },
    {
      "cell_type": "code",
      "metadata": {
        "id": "Wah5q1EGpxR2",
        "colab": {
          "base_uri": "https://localhost:8080/",
          "height": 579
        },
        "outputId": "070d3e68-a4dc-47a1-f94a-9b5f84226cc4"
      },
      "source": [
        "print(\"-------------------------------Top 5 Athletes having most number of Gold Medals-------------------------------\")\n",
        "print(\"\\n\")\n",
        "print(st.groupby('Athlete').count()['Medal'].sort_values(ascending = False).head())\n",
        "print(\"\\n\")\n",
        "print(st.groupby('Athlete').count()['Medal'].sort_values(ascending = False).head().plot(kind='bar',figsize=(8,4),color='red'))"
      ],
      "execution_count": 21,
      "outputs": [
        {
          "output_type": "stream",
          "name": "stdout",
          "text": [
            "-------------------------------Top 5 Athletes having most number of Gold Medals-------------------------------\n",
            "\n",
            "\n",
            "Athlete\n",
            "PHELPS, Michael     18\n",
            "NURMI, Paavo         9\n",
            "SPITZ, Mark          9\n",
            "LEWIS, Carl          9\n",
            "LATYNINA, Larisa     9\n",
            "Name: Medal, dtype: int64\n",
            "\n",
            "\n",
            "AxesSubplot(0.125,0.125;0.775x0.755)\n"
          ]
        },
        {
          "output_type": "display_data",
          "data": {
            "image/png": "[encoded data removed]",
            "text/plain": [
              "<Figure size 576x288 with 1 Axes>"
            ]
          },
          "metadata": {
            "needs_background": "light"
          }
        }
      ]
    },
    {
      "cell_type": "markdown",
      "metadata": {
        "id": "OhNtpAVBpxR2"
      },
      "source": [
        "### 6. In which year India won first Gold Medal in Summer Olympics?"
      ]
    },
    {
      "cell_type": "code",
      "metadata": {
        "id": "iQICIEdupxR3",
        "colab": {
          "base_uri": "https://localhost:8080/"
        },
        "outputId": "b525a46b-dbc7-4d95-aded-cf0aa7cb32fb"
      },
      "source": [
        "gold_year = st[st['Country'] == 'IND'].sort_values(by = 'Year').head(1)['Year'].item()\n",
        "txt=\"India won it's first Gold Medal in Summer Olympics in the year {0}.\"\n",
        "print(txt.format(gold_year))"
      ],
      "execution_count": 64,
      "outputs": [
        {
          "output_type": "stream",
          "name": "stdout",
          "text": [
            "India won it's first Gold Medal in Summer Olympics in the year 1928.\n"
          ]
        }
      ]
    },
    {
      "cell_type": "markdown",
      "metadata": {
        "id": "O6e8G68fpxR3"
      },
      "source": [
        "### 7. Which event is most popular in terms on number of players? (Top 5)"
      ]
    },
    {
      "cell_type": "code",
      "metadata": {
        "id": "2abMoBZ4pxR4",
        "colab": {
          "base_uri": "https://localhost:8080/",
          "height": 586
        },
        "outputId": "7f3bfd5c-0531-4171-aa6e-7691bd94e13e"
      },
      "source": [
        "print(\"------------------Top 5 Most Popular Events in terms of Number of Players ---------------------- \")\n",
        "print(\"\\n\")\n",
        "print(df.groupby('Event').count()['Athlete'].sort_values(ascending = False).head())\n",
        "print(\"\\n\")\n",
        "print(df.groupby('Event').count()['Athlete'].sort_values(ascending = False).head().plot(kind='bar',figsize=(8,4),color='red'))"
      ],
      "execution_count": 34,
      "outputs": [
        {
          "output_type": "stream",
          "name": "stdout",
          "text": [
            "------------------Top 5 Most Popular Events in terms of Number of Players ---------------------- \n",
            "\n",
            "\n",
            "Event\n",
            "Football            1497\n",
            "Hockey              1422\n",
            "Team Competition    1147\n",
            "Basketball          1012\n",
            "Handball             973\n",
            "Name: Athlete, dtype: int64\n",
            "\n",
            "\n",
            "AxesSubplot(0.125,0.125;0.775x0.755)\n"
          ]
        },
        {
          "output_type": "display_data",
          "data": {
            "image/png": "[encoded data removed]",
            "text/plain": [
              "<Figure size 576x288 with 1 Axes>"
            ]
          },
          "metadata": {
            "needs_background": "light"
          }
        }
      ]
    },
    {
      "cell_type": "markdown",
      "metadata": {
        "id": "UPa4rDmZpxR4"
      },
      "source": [
        "### 8. Which sport is having most female Gold Medalists? (Top 5)"
      ]
    },
    {
      "cell_type": "code",
      "metadata": {
        "id": "T_H7PddepxR4",
        "colab": {
          "base_uri": "https://localhost:8080/",
          "height": 590
        },
        "outputId": "c8043b36-1bf8-4bb2-ca4c-14d078e3dcca"
      },
      "source": [
        "data=[]\n",
        "for sport in df['Sport'].unique():\n",
        "  data.append([sport,len(df[(df['Sport']==sport) & (df['Medal']=='Gold') & (df['Gender']=='Women')])])\n",
        "\n",
        "df2 = pd.DataFrame(data,columns = ['Sport','Female gold medalist'])\n",
        "print(\"--------------Top 5 female Gold Medalist------------------------\")\n",
        "print(\"\\n\")\n",
        "df3=df2.sort_values(by='Female gold medalist', ascending=False).head()\n",
        "print(df3)\n",
        "print(\"\\n\")\n",
        "df3.plot(x='Sport',y='Female gold medalist',kind='bar',figsize=(10,5),color='red')\n"
      ],
      "execution_count": 53,
      "outputs": [
        {
          "output_type": "stream",
          "name": "stdout",
          "text": [
            "--------------Top 5 female Gold Medalist------------------------\n",
            "\n",
            "\n",
            "         Sport  Female gold medalist\n",
            "0     Aquatics                   589\n",
            "1    Athletics                   389\n",
            "4   Gymnastics                   268\n",
            "17      Rowing                   217\n",
            "35  Volleyball                   166\n",
            "\n",
            "\n"
          ]
        },
        {
          "output_type": "execute_result",
          "data": {
            "text/plain": [
              "<matplotlib.axes._subplots.AxesSubplot at 0x7f0ca9166290>"
            ]
          },
          "metadata": {},
          "execution_count": 53
        },
        {
          "output_type": "display_data",
          "data": {
            "image/png": "[encoded data removed]",
            "text/plain": [
              "<Figure size 720x360 with 1 Axes>"
            ]
          },
          "metadata": {
            "needs_background": "light"
          }
        }
      ]
    }
  ]
}